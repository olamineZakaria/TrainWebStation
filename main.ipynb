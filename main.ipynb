{
 "cells": [
  {
   "cell_type": "code",
   "execution_count": 2,
   "metadata": {},
   "outputs": [
    {
     "data": {
      "application/vnd.jupyter.widget-view+json": {
       "model_id": "036dc03225ad4b46a28bd8685daa7a5b",
       "version_major": 2,
       "version_minor": 0
      },
      "text/plain": [
       "                                             |          | [  0%]   00:00 -> (? left)"
      ]
     },
     "metadata": {},
     "output_type": "display_data"
    },
    {
     "name": "stdout",
     "output_type": "stream",
     "text": [
      "Report sweetviz_report.html was generated! NOTEBOOK/COLAB USERS: the web browser MAY not pop up, regardless, the report IS saved in your notebook/colab files.\n"
     ]
    },
    {
     "data": {
      "text/plain": [
       "True"
      ]
     },
     "execution_count": 2,
     "metadata": {},
     "output_type": "execute_result"
    },
    {
     "name": "stderr",
     "output_type": "stream",
     "text": [
      "2024-10-18 21:33:21,271 - INFO     - Executing shutdown due to inactivity...\n",
      "2024-10-18 21:33:21,286 - INFO     - Executing shutdown...\n",
      "2024-10-18 21:33:21,288 - INFO     - Not running with the Werkzeug Server, exiting by searching gc for BaseWSGIServer\n"
     ]
    }
   ],
   "source": [
    "import sweetviz as sv\n",
    "import pandas as pd\n",
    "\n",
    "# Chargez votre dataset\n",
    "df = pd.read_csv('multiple_linear_regression_dataset.csv')\n",
    "\n",
    "# Créez un rapport Sweetviz\n",
    "report = sv.analyze(df)\n",
    "\n",
    "# Optionnel : Comparez avec un autre DataFrame (comme un DataFrame vide)\n",
    "# report = sv.compare([df, \"Votre Dataset\"], [pd.DataFrame(), \"Empty DataFrame\"])\n",
    "\n",
    "# Générer le rapport dans un fichier HTML\n",
    "report.show_html('sweetviz_report.html')\n",
    "\n",
    "# Optionnel : ouvrez le rapport dans votre navigateur par défaut\n",
    "import webbrowser\n",
    "webbrowser.open('sweetviz_report.html')\n"
   ]
  },
  {
   "cell_type": "code",
   "execution_count": null,
   "metadata": {},
   "outputs": [],
   "source": []
  }
 ],
 "metadata": {
  "kernelspec": {
   "display_name": "Python 3",
   "language": "python",
   "name": "python3"
  },
  "language_info": {
   "codemirror_mode": {
    "name": "ipython",
    "version": 3
   },
   "file_extension": ".py",
   "mimetype": "text/x-python",
   "name": "python",
   "nbconvert_exporter": "python",
   "pygments_lexer": "ipython3",
   "version": "3.12.3"
  }
 },
 "nbformat": 4,
 "nbformat_minor": 2
}
